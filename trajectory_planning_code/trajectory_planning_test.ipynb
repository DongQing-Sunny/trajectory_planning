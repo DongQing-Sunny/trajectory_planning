{
 "cells": [
  {
   "cell_type": "code",
   "execution_count": 80,
   "metadata": {},
   "outputs": [],
   "source": [
    "import numpy as np\n",
    "class ObstacleMap:\n",
    "    def __init__(self, x_start, y_start, x_target, y_target, max_x, max_y, obstacle_ratio):\n",
    "        self.x_start = x_start\n",
    "        self.y_start = y_start\n",
    "        self.x_target = x_target\n",
    "        self.y_target = y_target        \n",
    "        self.max_x = max_x\n",
    "        self.max_y = max_y\n",
    "        self.obstacle_ratio = obstacle_ratio\n",
    "        \n",
    "    def creata_obstacles(self):\n",
    "        obstacle_map = []\n",
    "        rand_map = np.random.rand(self.max_x, self.max_y)\n",
    "        for i in range(0, self.max_x):\n",
    "            for j in range(0, self.max_y):\n",
    "                if rand_map[i,j]<self.obstacle_ratio:\n",
    "                    obstacle_map.append([i,j])\n",
    "        return obstacle_map\n",
    "          \n",
    "    def create_map(self):\n",
    "        whole_map = []\n",
    "        whole_map.append([self.x_start, self.y_start])\n",
    "        whole_map.extend(self.creata_obstacles())\n",
    "        whole_map.append([self.x_target, self.y_target])\n",
    "        return whole_map\n",
    "        "
   ]
  },
  {
   "cell_type": "code",
   "execution_count": 81,
   "metadata": {},
   "outputs": [],
   "source": [
    "map = ObstacleMap(1,1,10,10,10,10,0.25)"
   ]
  },
  {
   "cell_type": "code",
   "execution_count": 82,
   "metadata": {},
   "outputs": [
    {
     "data": {
      "text/plain": [
       "[[1, 1],\n",
       " [0, 0],\n",
       " [0, 5],\n",
       " [0, 6],\n",
       " [0, 7],\n",
       " [2, 1],\n",
       " [3, 8],\n",
       " [4, 0],\n",
       " [5, 3],\n",
       " [5, 8],\n",
       " [6, 4],\n",
       " [6, 6],\n",
       " [7, 2],\n",
       " [8, 9],\n",
       " [9, 0],\n",
       " [9, 7],\n",
       " [10, 10]]"
      ]
     },
     "execution_count": 82,
     "metadata": {},
     "output_type": "execute_result"
    }
   ],
   "source": [
    "whole_map = map.create_map()\n",
    "whole_map"
   ]
  },
  {
   "cell_type": "code",
   "execution_count": 17,
   "metadata": {},
   "outputs": [
    {
     "data": {
      "text/plain": [
       "[0, 9]"
      ]
     },
     "execution_count": 17,
     "metadata": {},
     "output_type": "execute_result"
    }
   ],
   "source": [
    "whole_map[1]"
   ]
  },
  {
   "cell_type": "code",
   "execution_count": null,
   "metadata": {},
   "outputs": [],
   "source": []
  },
  {
   "cell_type": "code",
   "execution_count": 19,
   "metadata": {},
   "outputs": [
    {
     "data": {
      "image/png": "[encoded data removed]",
      "text/plain": [
       "<Figure size 432x288 with 1 Axes>"
      ]
     },
     "metadata": {
      "needs_background": "light"
     },
     "output_type": "display_data"
    }
   ],
   "source": [
    "import matplotlib.pyplot as plt\n",
    "for i in range(0, len(whole_map)):\n",
    "    plt.scatter(whole_map[i][0], whole_map[i][1])"
   ]
  },
  {
   "cell_type": "code",
   "execution_count": 76,
   "metadata": {},
   "outputs": [],
   "source": [
    "import math\n",
    "def node_distance(x1, y1, x2, y2):\n",
    "    return math.sqrt(math.pow((x1-x2),2)+math.pow((y1-y2),2))\n",
    "    "
   ]
  },
  {
   "cell_type": "code",
   "execution_count": 24,
   "metadata": {},
   "outputs": [
    {
     "data": {
      "text/plain": [
       "5.0"
      ]
     },
     "execution_count": 24,
     "metadata": {},
     "output_type": "execute_result"
    }
   ],
   "source": [
    "node_distance(1,1,4,5)"
   ]
  },
  {
   "cell_type": "code",
   "execution_count": 31,
   "metadata": {},
   "outputs": [],
   "source": [
    "def insert_open(x_val, y_val, parent_xval, parent_yval, hn, gn, fn):\n",
    "    new_node = []\n",
    "    new_node.insert(0,1)\n",
    "    new_node.insert(1,x_val)\n",
    "    new_node.insert(2,y_val)\n",
    "    new_node.insert(3,parent_xval)\n",
    "    new_node.insert(4,parent_yval)\n",
    "    new_node.insert(5,hn)\n",
    "    new_node.insert(6,gn)\n",
    "    new_node.insert(7,fn)\n",
    "    return new_node"
   ]
  },
  {
   "cell_type": "code",
   "execution_count": 46,
   "metadata": {},
   "outputs": [
    {
     "data": {
      "text/plain": [
       "[1, 22, 23, 4, 5, 6, 7, 8]"
      ]
     },
     "execution_count": 46,
     "metadata": {},
     "output_type": "execute_result"
    }
   ],
   "source": [
    "new_node = insert_open(22,23,4,5,6,7,8)\n",
    "new_node"
   ]
  },
  {
   "cell_type": "code",
   "execution_count": 37,
   "metadata": {},
   "outputs": [],
   "source": [
    "open_list = []\n",
    "open_list.append(new_node)"
   ]
  },
  {
   "cell_type": "code",
   "execution_count": 47,
   "metadata": {},
   "outputs": [
    {
     "data": {
      "text/plain": [
       "[[1, 2, 3, 4, 5, 6, 7, 8],\n",
       " [1, 12, 13, 4, 5, 6, 7, 8],\n",
       " [1, 22, 23, 4, 5, 6, 7, 8]]"
      ]
     },
     "execution_count": 47,
     "metadata": {},
     "output_type": "execute_result"
    }
   ],
   "source": [
    "open_list.append(new_node)\n",
    "open_list"
   ]
  },
  {
   "cell_type": "code",
   "execution_count": 60,
   "metadata": {},
   "outputs": [],
   "source": [
    "def node_indx(open_list, x_val, y_val):\n",
    "    n_index = -1\n",
    "    for i in range(0, len(open_list)):\n",
    "        if open_list[i][1] == x_val and open_list[i][2] == y_val:\n",
    "            n_index = i\n",
    "    \n",
    "    return n_index"
   ]
  },
  {
   "cell_type": "code",
   "execution_count": 61,
   "metadata": {},
   "outputs": [
    {
     "data": {
      "text/plain": [
       "-1"
      ]
     },
     "execution_count": 61,
     "metadata": {},
     "output_type": "execute_result"
    }
   ],
   "source": [
    "node_indx(open_list,32,33)"
   ]
  },
  {
   "cell_type": "code",
   "execution_count": 62,
   "metadata": {},
   "outputs": [
    {
     "data": {
      "text/plain": [
       "[1, 22, 23, 4, 5, 6, 7, 8]"
      ]
     },
     "execution_count": 62,
     "metadata": {},
     "output_type": "execute_result"
    }
   ],
   "source": [
    "new_node = insert_open(22,23,4,5,6,7,8)\n",
    "new_node\n"
   ]
  },
  {
   "cell_type": "code",
   "execution_count": 63,
   "metadata": {},
   "outputs": [],
   "source": [
    "closed_list = []"
   ]
  },
  {
   "cell_type": "code",
   "execution_count": 64,
   "metadata": {},
   "outputs": [
    {
     "data": {
      "text/plain": [
       "[[1, 22, 23, 4, 5, 6, 7, 8]]"
      ]
     },
     "execution_count": 64,
     "metadata": {},
     "output_type": "execute_result"
    }
   ],
   "source": [
    "closed_list.append(new_node)\n",
    "closed_list"
   ]
  },
  {
   "cell_type": "code",
   "execution_count": 67,
   "metadata": {},
   "outputs": [],
   "source": [
    "def is_in_closed_list(closed_list, x_val, y_val):\n",
    "    is_in = False\n",
    "    for i in range(0,len(closed_list)):\n",
    "        if closed_list[i][0] == x_val and closed_list[i][1] == y_val:\n",
    "            is_in = True\n",
    "    return is_in"
   ]
  },
  {
   "cell_type": "code",
   "execution_count": 69,
   "metadata": {},
   "outputs": [
    {
     "data": {
      "text/plain": [
       "False"
      ]
     },
     "execution_count": 69,
     "metadata": {},
     "output_type": "execute_result"
    }
   ],
   "source": [
    "is_in_closed_list(closed_list, 12,13)"
   ]
  },
  {
   "cell_type": "code",
   "execution_count": 75,
   "metadata": {},
   "outputs": [],
   "source": [
    "def hn_Astar(xTarget, yTarget, exp_x, exp_y):\n",
    "    return node_distance(xTarget, yTarget, exp_x, exp_y)"
   ]
  },
  {
   "cell_type": "code",
   "execution_count": 78,
   "metadata": {},
   "outputs": [],
   "source": [
    "def expand_list(node_x, node_y, gn, xTarget, yTarget, closed_list, MAX_X, MAX_Y):\n",
    "    expand_list = []\n",
    "    list_order = [1,0,-1]\n",
    "    for i in list_order:\n",
    "        for j in list_order:\n",
    "            expand_node = []\n",
    "            if i==0 and j==0:\n",
    "                continue\n",
    "            exp_x = node_x + i\n",
    "            exp_y = node_y + j\n",
    "            if exp_x >=0 and exp_x < MAX_X and exp_y >=0 and exp_y < MAX_Y and (not is_in_closed_list(closed_list, exp_x, exp_y)):\n",
    "                expand_node.insert(0,exp_x)\n",
    "                expand_node.insert(1,exp_y)\n",
    "                expand_node.insert(2,hn_Astar(xTarget, yTarget, exp_x, exp_y)) #fn\n",
    "                expand_node.insert(3,gn+node_distance(node_x, node_x, exp_x, exp_y)) #gn\n",
    "                expand_node.insert(4,expand_node[2]+expand_node[3]) #hn\n",
    "                expand_list.append(expand_node)\n",
    "            \n",
    "    return expand_list\n",
    "             \n",
    "                \n",
    "                "
   ]
  },
  {
   "cell_type": "code",
   "execution_count": 79,
   "metadata": {},
   "outputs": [
    {
     "data": {
      "text/plain": [
       "[[1, 1, 11.313708498984761, 1.4142135623730951, 12.727922061357857],\n",
       " [1, 0, 12.041594578792296, 1.0, 13.041594578792296],\n",
       " [0, 1, 12.041594578792296, 1.0, 13.041594578792296]]"
      ]
     },
     "execution_count": 79,
     "metadata": {},
     "output_type": "execute_result"
    }
   ],
   "source": [
    "expand_list(0,0,0,9,9,[],9,9)"
   ]
  },
  {
   "cell_type": "code",
   "execution_count": null,
   "metadata": {},
   "outputs": [],
   "source": [
    "def min_fn(open_list, xTarget, yTarget):\n",
    "    fn = 1000\n",
    "    for i in range(0, len(open_list)):\n",
    "        if open_list[i][-1] < fn:\n",
    "            fn = open_list[i][-1]\n",
    "            node_selected = open_list[i]\n",
    "            \n",
    "    return node_selected\n",
    "        "
   ]
  },
  {
   "cell_type": "code",
   "execution_count": 92,
   "metadata": {},
   "outputs": [
    {
     "data": {
      "image/png": "[encoded data removed]",
      "text/plain": [
       "<Figure size 432x288 with 1 Axes>"
      ]
     },
     "metadata": {
      "needs_background": "light"
     },
     "output_type": "display_data"
    },
    {
     "ename": "IndexError",
     "evalue": "list index out of range",
     "output_type": "error",
     "traceback": [
      "\u001b[1;31m---------------------------------------------------------------------------\u001b[0m",
      "\u001b[1;31mIndexError\u001b[0m                                Traceback (most recent call last)",
      "\u001b[1;32mc:\\Users\\W10\\Desktop\\trajectory_planning\\trajectory_planning_code\\trajectory_planning_test.ipynb Cell 24'\u001b[0m in \u001b[0;36m<module>\u001b[1;34m\u001b[0m\n\u001b[0;32m     <a href='vscode-notebook-cell:/c%3A/Users/W10/Desktop/trajectory_planning/trajectory_planning_code/trajectory_planning_test.ipynb#ch0000025?line=17'>18</a>\u001b[0m closed_list \u001b[39m=\u001b[39m whole_map\n\u001b[0;32m     <a href='vscode-notebook-cell:/c%3A/Users/W10/Desktop/trajectory_planning/trajectory_planning_code/trajectory_planning_test.ipynb#ch0000025?line=19'>20</a>\u001b[0m \u001b[39m#for loop in range(0, 10000):\u001b[39;00m\n\u001b[1;32m---> <a href='vscode-notebook-cell:/c%3A/Users/W10/Desktop/trajectory_planning/trajectory_planning_code/trajectory_planning_test.ipynb#ch0000025?line=20'>21</a>\u001b[0m exp_list \u001b[39m=\u001b[39m expand_list(x_node, y_node, gn, x_target, y_target, closed_list, MAX_X, MAX_Y)\n\u001b[0;32m     <a href='vscode-notebook-cell:/c%3A/Users/W10/Desktop/trajectory_planning/trajectory_planning_code/trajectory_planning_test.ipynb#ch0000025?line=21'>22</a>\u001b[0m \u001b[39mprint\u001b[39m(exp_list)\n",
      "File \u001b[1;32mc:\\Users\\W10\\Desktop\\trajectory_planning\\trajectory_planning_code\\utils.py:74\u001b[0m, in \u001b[0;36mexpand_list\u001b[1;34m(node_x, node_y, gn, xTarget, yTarget, closed_list, MAX_X, MAX_Y)\u001b[0m\n\u001b[0;32m     <a href='file:///c%3A/Users/W10/Desktop/trajectory_planning/trajectory_planning_code/utils.py?line=71'>72</a>\u001b[0m exp_x \u001b[39m=\u001b[39m node_x \u001b[39m+\u001b[39m i\n\u001b[0;32m     <a href='file:///c%3A/Users/W10/Desktop/trajectory_planning/trajectory_planning_code/utils.py?line=72'>73</a>\u001b[0m exp_y \u001b[39m=\u001b[39m node_y \u001b[39m+\u001b[39m j\n\u001b[1;32m---> <a href='file:///c%3A/Users/W10/Desktop/trajectory_planning/trajectory_planning_code/utils.py?line=73'>74</a>\u001b[0m \u001b[39mif\u001b[39;00m exp_x \u001b[39m>\u001b[39m\u001b[39m=\u001b[39m\u001b[39m0\u001b[39m \u001b[39mand\u001b[39;00m exp_x \u001b[39m<\u001b[39m MAX_X \u001b[39mand\u001b[39;00m exp_y \u001b[39m>\u001b[39m\u001b[39m=\u001b[39m\u001b[39m0\u001b[39m \u001b[39mand\u001b[39;00m exp_y \u001b[39m<\u001b[39m MAX_Y \u001b[39mand\u001b[39;00m (\u001b[39mnot\u001b[39;00m is_in_closed_list(closed_list, exp_x, exp_y)):\n\u001b[0;32m     <a href='file:///c%3A/Users/W10/Desktop/trajectory_planning/trajectory_planning_code/utils.py?line=74'>75</a>\u001b[0m     expand_node\u001b[39m.\u001b[39minsert(\u001b[39m0\u001b[39m,exp_x)\n\u001b[0;32m     <a href='file:///c%3A/Users/W10/Desktop/trajectory_planning/trajectory_planning_code/utils.py?line=75'>76</a>\u001b[0m     expand_node\u001b[39m.\u001b[39minsert(\u001b[39m1\u001b[39m,exp_y)\n",
      "File \u001b[1;32mc:\\Users\\W10\\Desktop\\trajectory_planning\\trajectory_planning_code\\utils.py:57\u001b[0m, in \u001b[0;36mis_in_closed_list\u001b[1;34m(closed_list, x_val, y_val)\u001b[0m\n\u001b[0;32m     <a href='file:///c%3A/Users/W10/Desktop/trajectory_planning/trajectory_planning_code/utils.py?line=54'>55</a>\u001b[0m is_in \u001b[39m=\u001b[39m \u001b[39mFalse\u001b[39;00m\n\u001b[0;32m     <a href='file:///c%3A/Users/W10/Desktop/trajectory_planning/trajectory_planning_code/utils.py?line=55'>56</a>\u001b[0m \u001b[39mfor\u001b[39;00m i \u001b[39min\u001b[39;00m \u001b[39mrange\u001b[39m(\u001b[39m0\u001b[39m,\u001b[39mlen\u001b[39m(closed_list)):\n\u001b[1;32m---> <a href='file:///c%3A/Users/W10/Desktop/trajectory_planning/trajectory_planning_code/utils.py?line=56'>57</a>\u001b[0m     \u001b[39mif\u001b[39;00m closed_list[i][\u001b[39m1\u001b[39m] \u001b[39m==\u001b[39m x_val \u001b[39mand\u001b[39;00m closed_list[i][\u001b[39m2\u001b[39;49m] \u001b[39m==\u001b[39m y_val:\n\u001b[0;32m     <a href='file:///c%3A/Users/W10/Desktop/trajectory_planning/trajectory_planning_code/utils.py?line=57'>58</a>\u001b[0m         is_in \u001b[39m=\u001b[39m \u001b[39mTrue\u001b[39;00m\n\u001b[0;32m     <a href='file:///c%3A/Users/W10/Desktop/trajectory_planning/trajectory_planning_code/utils.py?line=58'>59</a>\u001b[0m \u001b[39mreturn\u001b[39;00m is_in\n",
      "\u001b[1;31mIndexError\u001b[0m: list index out of range"
     ]
    }
   ],
   "source": [
    "from utils import ObstacleMap, insert_open, expand_list, min_fn\n",
    "import matplotlib.pyplot as plt\n",
    "\n",
    "x_node = 0\n",
    "y_node = 0\n",
    "gn = 0\n",
    "x_target = 9\n",
    "y_target= 9\n",
    "MAX_X = 9\n",
    "MAX_Y = 9\n",
    "\n",
    "map = ObstacleMap(x_node, y_node, x_target, y_target, MAX_X, MAX_Y, 0.25)\n",
    "whole_map = map.create_map()\n",
    "for i in range(0, len(whole_map)):\n",
    "    plt.scatter(whole_map[i][0], whole_map[i][1])\n",
    "plt.show()\n",
    "\n",
    "closed_list = whole_map\n",
    "\n",
    "#for loop in range(0, 10000):\n",
    "exp_list = expand_list(x_node, y_node, gn, x_target, y_target, closed_list, MAX_X, MAX_Y)\n",
    "print(exp_list)"
   ]
  },
  {
   "cell_type": "code",
   "execution_count": 102,
   "metadata": {},
   "outputs": [],
   "source": [
    "l = [1,1]\n",
    "list = []\n",
    "l2 = [2,2]\n",
    "l3 = [3,3]\n"
   ]
  },
  {
   "cell_type": "code",
   "execution_count": 105,
   "metadata": {},
   "outputs": [
    {
     "data": {
      "text/plain": [
       "[[1, 1], [2, 2], [3, 3]]"
      ]
     },
     "execution_count": 105,
     "metadata": {},
     "output_type": "execute_result"
    }
   ],
   "source": [
    "list.append(l3)\n",
    "list"
   ]
  },
  {
   "cell_type": "code",
   "execution_count": 106,
   "metadata": {},
   "outputs": [],
   "source": [
    "list[0][0] = 0"
   ]
  },
  {
   "cell_type": "code",
   "execution_count": 107,
   "metadata": {},
   "outputs": [
    {
     "data": {
      "text/plain": [
       "[[0, 1], [2, 2], [3, 3]]"
      ]
     },
     "execution_count": 107,
     "metadata": {},
     "output_type": "execute_result"
    }
   ],
   "source": [
    "list"
   ]
  },
  {
   "cell_type": "code",
   "execution_count": 2,
   "metadata": {},
   "outputs": [
    {
     "name": "stdout",
     "output_type": "stream",
     "text": [
      "person hobbies list is:['football', 'woman']\n",
      "person hobbies2 list is:['reading', 'swimming', 'running']\n",
      "['__class__', '__delattr__', '__dict__', '__dir__', '__doc__', '__eq__', '__format__', '__ge__', '__getattribute__', '__gt__', '__hash__', '__init__', '__init_subclass__', '__le__', '__lt__', '__module__', '__ne__', '__new__', '__reduce__', '__reduce_ex__', '__repr__', '__setattr__', '__sizeof__', '__str__', '__subclasshook__', '__weakref__', 'hobbies', 'hobbies2', 'information', 'tall']\n",
      "jhon gender is man\n",
      "['__class__', '__delattr__', '__dict__', '__dir__', '__doc__', '__eq__', '__format__', '__ge__', '__getattribute__', '__gt__', '__hash__', '__init__', '__init_subclass__', '__le__', '__lt__', '__module__', '__ne__', '__new__', '__reduce__', '__reduce_ex__', '__repr__', '__setattr__', '__sizeof__', '__str__', '__subclasshook__', '__weakref__', 'age', 'gender', 'hobbies', 'hobbies2', 'information', 'name', 'tall', 'weight']\n",
      "jhon age is 24 ,and weigth is 66\n",
      "None\n",
      "['football', 'woman', 'python']\n",
      "['reading', 'swimming', 'running']\n",
      "['name', 'age', 'weight', '__module__', 'tall', 'hobbies', '__init__', 'information', '__dict__', '__weakref__', '__doc__', 'hobbies2', '__repr__', '__hash__', '__str__', '__getattribute__', '__setattr__', '__delattr__', '__lt__', '__le__', '__eq__', '__ne__', '__gt__', '__ge__', '__new__', '__reduce_ex__', '__reduce__', '__subclasshook__', '__init_subclass__', '__format__', '__sizeof__', '__dir__', '__class__']\n"
     ]
    }
   ],
   "source": [
    "class person(object):\n",
    "    tall=180\n",
    "    hobbies=[]\n",
    "    __private_name = \"xx\"\n",
    "    def __init__(self,name,age,weight):\n",
    "        self.name=name\n",
    "        self.age=age\n",
    "        self.weight=weight\n",
    "        self.__private_name = \"123\"\n",
    "    def __init__(self):\n",
    "        return\n",
    "    def information(self):\n",
    "        self.tall\n",
    "        print(\"%s age is %d ,and weigth is %s\"%(self.name,self.age,self.weight))\n",
    "\n",
    "person.hobbies.extend([\"football\",\"woman\"]) #类数据属性属于类本身，可以通过类名进行修改和访问，此次添加两个值\n",
    "print(\"person hobbies list is:%s\"%person.hobbies)\n",
    "person.hobbies2=[\"reading\",\"swimming\",\"running\"] #类在定义后，依然可以添加类的属性，新增的类属性也可以被类和所以实例共有\n",
    "print(\"person hobbies2 list is:%s\"%person.hobbies2)\n",
    "print(dir(person)) #通过内建函数dir()或访问类的字典属性__dict__这两种方式来查看类有那些属性\n",
    "\n",
    "\n",
    "jhon=person(\"jhon\",24,66) #实例数据属性只能通过实例化访问\n",
    "jhon.gender=\"man\"  #类实例化后可以动态添加属性，但是只能被实例化的jhon使用\n",
    "print(\"%s gender is %s\"%(jhon.name,jhon.gender))\n",
    "print(dir(jhon))\n",
    "jhon.hobbies.append(\"python\") #修改实例化列表属性，在原基础上添加\n",
    "infoma=jhon.information()\n",
    "print(infoma)\n",
    "print(jhon.hobbies)\n",
    "print(jhon.hobbies2)\n",
    "\n",
    "jhon2=person(\"jhon2\",25,68) #jhon2将没有属性gender\n",
    "print(jhon2.__dir__())"
   ]
  }
 ],
 "metadata": {
  "interpreter": {
   "hash": "02d969d5d4a1f7ce34924dc5c08485e8b161c8662446b25fe7f7468bc28a8b7d"
  },
  "kernelspec": {
   "display_name": "Python 3.8.5 ('base')",
   "language": "python",
   "name": "python3"
  },
  "language_info": {
   "codemirror_mode": {
    "name": "ipython",
    "version": 3
   },
   "file_extension": ".py",
   "mimetype": "text/x-python",
   "name": "python",
   "nbconvert_exporter": "python",
   "pygments_lexer": "ipython3",
   "version": "3.9.2"
  },
  "orig_nbformat": 4
 },
 "nbformat": 4,
 "nbformat_minor": 2
}
