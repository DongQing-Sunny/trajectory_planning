{
 "cells": [
  {
   "cell_type": "code",
   "execution_count": 1,
   "metadata": {},
   "outputs": [],
   "source": [
    "import sympy\n",
    "from sympy import *\n",
    "def sympy_derivative():\n",
    "    T, dx, dy, dz, vx0, vy0, vz0 = sympy.symbols('T dx dy dz vx0 vy0 vz0')\n",
    "    # 定义表达式内容\n",
    "    delta_px = dx - vx0*T;\n",
    "    delta_py = dy - vy0*T;\n",
    "    delta_pz = dz - vz0*T;\n",
    "    delta_vx =  - vx0;\n",
    "    delta_vy =  - vy0;\n",
    "    delta_vz =  - vz0; \n",
    "    delta_matrix = sympy.Matrix([delta_px, delta_py, delta_pz, delta_vx, delta_vy, delta_vz]) \n",
    "    A_T_matrix = sympy.Matrix([[Rational(1,6)*T**3, 0, 0, Rational(1,2)*T**2, 0, 0], \n",
    "                            [0, Rational(1,6)*T**3, 0, 0, Rational(1,2)*T**2, 0],\n",
    "                            [0, 0, Rational(1,6)*T**3, 0, 0, Rational(1,2)*T**2],\n",
    "                            [Rational(1,2)*T**2, 0, 0, T, 0, 0],\n",
    "                            [0, Rational(1,2)*T**2, 0, 0, T, 0],\n",
    "                            [0, 0, Rational(1,2)*T**2, 0, 0, T]]) \n",
    "    alpha_beta = A_T_matrix.inv() * delta_matrix\n",
    "    alpha1 = alpha_beta[0]\n",
    "    alpha2 = alpha_beta[1]\n",
    "    alpha3 = alpha_beta[2]\n",
    "    beta1 = alpha_beta[3]\n",
    "    beta2 = alpha_beta[4]\n",
    "    beta3 = alpha_beta[5]\n",
    "    J = T + (Rational(1,3)*alpha1**2*T**3 + alpha1*beta1*T**2 + beta1**2*T) +  \\\n",
    "            (Rational(1,3)*alpha2**2*T**3 + alpha2*beta2*T**2 + beta2**2*T) + \\\n",
    "            (Rational(1,3)*alpha3**2*T**3 + alpha3*beta3*T**2 + beta3**2*T)    \n",
    "    J = sympy.expand(J)\n",
    "    return sympy.diff(J, T)"
   ]
  },
  {
   "cell_type": "code",
   "execution_count": 3,
   "metadata": {},
   "outputs": [
    {
     "data": {
      "text/latex": [
       "$\\displaystyle 1 - \\frac{4 vx_{0}^{2}}{T^{2}} - \\frac{4 vy_{0}^{2}}{T^{2}} - \\frac{4 vz_{0}^{2}}{T^{2}} + \\frac{24 dx vx_{0}}{T^{3}} + \\frac{24 dy vy_{0}}{T^{3}} + \\frac{24 dz vz_{0}}{T^{3}} - \\frac{36 dx^{2}}{T^{4}} - \\frac{36 dy^{2}}{T^{4}} - \\frac{36 dz^{2}}{T^{4}}$"
      ],
      "text/plain": [
       "1 - 4*vx0**2/T**2 - 4*vy0**2/T**2 - 4*vz0**2/T**2 + 24*dx*vx0/T**3 + 24*dy*vy0/T**3 + 24*dz*vz0/T**3 - 36*dx**2/T**4 - 36*dy**2/T**4 - 36*dz**2/T**4"
      ]
     },
     "execution_count": 3,
     "metadata": {},
     "output_type": "execute_result"
    }
   ],
   "source": [
    "sympy_derivative()"
   ]
  }
 ],
 "metadata": {
  "interpreter": {
   "hash": "0b28f02ef2aae3eaa3fccb482b27188a341bfada90107e88c1cb28b90d2dbedc"
  },
  "kernelspec": {
   "display_name": "Python 3.9.2 ('sunny_trajplan')",
   "language": "python",
   "name": "python3"
  },
  "language_info": {
   "codemirror_mode": {
    "name": "ipython",
    "version": 3
   },
   "file_extension": ".py",
   "mimetype": "text/x-python",
   "name": "python",
   "nbconvert_exporter": "python",
   "pygments_lexer": "ipython3",
   "version": "3.9.2"
  },
  "orig_nbformat": 4
 },
 "nbformat": 4,
 "nbformat_minor": 2
}
